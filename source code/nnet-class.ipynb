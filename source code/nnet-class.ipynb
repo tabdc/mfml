{
 "cells": [
  {
   "cell_type": "markdown",
   "id": "623d87ed",
   "metadata": {},
   "source": [
    "# Section 3.2: FC neural network for classification\n",
    "## by Telmo Cunha"
   ]
  },
  {
   "cell_type": "code",
   "execution_count": 1,
   "id": "2e271405",
   "metadata": {},
   "outputs": [],
   "source": [
    "import numpy as np\n",
    "import matplotlib.pyplot as plt\n",
    "%matplotlib inline\n",
    "np.random.seed(42)"
   ]
  },
  {
   "cell_type": "code",
   "execution_count": 2,
   "id": "b9d5051c",
   "metadata": {},
   "outputs": [],
   "source": [
    "def relu(x):\n",
    "    return x * (x > 0) # faster than np.max"
   ]
  },
  {
   "cell_type": "code",
   "execution_count": 3,
   "id": "f76a3b83",
   "metadata": {},
   "outputs": [],
   "source": [
    "def relu_derivative(x):\n",
    "    return (x > 0) * 1"
   ]
  },
  {
   "cell_type": "code",
   "execution_count": 4,
   "id": "6a19d5ec",
   "metadata": {},
   "outputs": [],
   "source": [
    "def sigmoid(x):\n",
    "    return 1.0/(1+np.exp(-x))"
   ]
  },
  {
   "cell_type": "code",
   "execution_count": 5,
   "id": "30fe6fef",
   "metadata": {},
   "outputs": [],
   "source": [
    "def sigmoid_derivative(x):\n",
    "    return sigmoid(x)*(1-sigmoid(x))"
   ]
  },
  {
   "cell_type": "code",
   "execution_count": 6,
   "id": "6f66bdbf",
   "metadata": {},
   "outputs": [],
   "source": [
    "def tanh(x):\n",
    "    return np.tanh(x)"
   ]
  },
  {
   "cell_type": "code",
   "execution_count": 7,
   "id": "0bc3b4bc",
   "metadata": {},
   "outputs": [],
   "source": [
    "def tanh_derivative(x):\n",
    "    return 1-np.power(np.tanh(x),2)"
   ]
  },
  {
   "cell_type": "code",
   "execution_count": 8,
   "id": "bbe728ca",
   "metadata": {},
   "outputs": [],
   "source": [
    "def softmax(x):\n",
    "\n",
    "    x=np.exp(x)\n",
    "    \n",
    "    total_sum=np.sum(x,axis=0)  \n",
    "\n",
    "    d=x/total_sum\n",
    "    \n",
    "    return d"
   ]
  },
  {
   "cell_type": "code",
   "execution_count": 9,
   "id": "a8a90f5f",
   "metadata": {},
   "outputs": [],
   "source": [
    "def one_hot(Y):\n",
    "    classes=10\n",
    "    return np.eye(int(classes))[Y]"
   ]
  },
  {
   "cell_type": "code",
   "execution_count": 10,
   "id": "b9a87cdc",
   "metadata": {},
   "outputs": [],
   "source": [
    "def accuracy(Y,Y_hat):\n",
    "\n",
    "    count=0\n",
    "    \n",
    "    z=Y_hat-Y\n",
    "\n",
    "    for i in z:\n",
    "        if i==0:\n",
    "            count+=1\n",
    "    \n",
    "    return count/len(z)"
   ]
  },
  {
   "cell_type": "code",
   "execution_count": 11,
   "id": "2b2edacd",
   "metadata": {},
   "outputs": [],
   "source": [
    "def weight_init(neurons,X_train):\n",
    "    \n",
    "    n0=X_train.shape[1]\n",
    "    layers=len(neurons)\n",
    "    \n",
    "    W={}\n",
    "\n",
    "    for i in range(layers):\n",
    "        if (i==0):\n",
    "            # normal initialization (+1 for the bias weight)\n",
    "            W[\"layer{0}\".format(i+1)] = 0.1*np.random.normal(0, 1, (neurons[i],n0+1))\n",
    "        else:\n",
    "            # normal initialization (+1 for the bias weight)\n",
    "            W[\"layer{0}\".format(i+1)] = 0.1*np.random.normal(0, 1, (neurons[i],neurons[i-1]+1))\n",
    "            \n",
    "    return W"
   ]
  },
  {
   "cell_type": "code",
   "execution_count": 12,
   "id": "fd500da7",
   "metadata": {},
   "outputs": [],
   "source": [
    "def loss_function(Z,y_hat):\n",
    "    \n",
    "    Z=np.log(Z)\n",
    "    loss=-np.dot(Z,y_hat)\n",
    "    \n",
    "    return loss"
   ]
  },
  {
   "cell_type": "code",
   "execution_count": 13,
   "id": "6906d09d",
   "metadata": {},
   "outputs": [],
   "source": [
    "def forward_prop(x,W):\n",
    "    \n",
    "    # dictionary of layer outputs\n",
    "    Z = {}\n",
    "    # dictionary of layer preactivations\n",
    "    A = {}\n",
    "    \n",
    "    if(layers>1):\n",
    "    \n",
    "        for i in range(layers-1):\n",
    "            if (i==0):\n",
    "                \n",
    "                A[\"layer{0}\".format(i+1)]=np.dot(W[\"layer{0}\".format(i+1)],x)\n",
    "                # specify here the activation function\n",
    "                Z[\"layer{0}\".format(i+1)]=sigmoid(A[\"layer{0}\".format(i+1)])\n",
    "                \n",
    "                # insert 1 at the start of each output for the bias\n",
    "                Z[\"layer{0}\".format(i+1)]=np.insert(Z[\"layer{0}\".format(i+1)],0,1,axis=0)\n",
    "                #print(\"output layer\",i+1,\": \",Z[\"layer{0}\".format(i+1)]) \n",
    "            else:\n",
    "                \n",
    "                A[\"layer{0}\".format(i+1)]=np.dot(W[\"layer{0}\".format(i+1)],Z[\"layer{0}\".format(i)])\n",
    "                # specify here the activation function\n",
    "                Z[\"layer{0}\".format(i+1)]=sigmoid(A[\"layer{0}\".format(i+1)])\n",
    "    \n",
    "                # insert 1 at the start of each output for the bias\n",
    "                Z[\"layer{0}\".format(i+1)]=np.insert(Z[\"layer{0}\".format(i+1)],0,1,axis=0)\n",
    "                #print(\"output layer\",i+1,\": \",Z[\"layer{0}\".format(i+1)]) \n",
    "            \n",
    "        A[\"layer{0}\".format(layers)]=np.dot(W[\"layer{0}\".format(layers)],Z[\"layer{0}\".format(layers-1)])\n",
    "        Z[\"layer{0}\".format(layers)]=softmax(A[\"layer{0}\".format(layers)])\n",
    "        #print(\"output last layer:\",Z[\"layer{0}\".format(layers)])  \n",
    "              \n",
    "    else:\n",
    "        print(\"Vector of neurons badly specified.\")\n",
    "  \n",
    "    return A,Z"
   ]
  },
  {
   "cell_type": "code",
   "execution_count": 14,
   "id": "6c7e1d14",
   "metadata": {},
   "outputs": [],
   "source": [
    "def backprop(x, y, A, Z, W):\n",
    "\n",
    "    deltas={}\n",
    "    \n",
    "    for l in range(layers, 0, -1):\n",
    "        if (l==layers):\n",
    "            deltas[\"layer{0}\".format(l)] = Z[\"layer{0}\".format(l)]-y\n",
    "            deltas[\"layer{0}\".format(l)] = deltas[\"layer{0}\".format(l)].reshape((len(deltas[\"layer{0}\".format(l)]),1))\n",
    "            #print(\"delta\",deltas[\"layer{0}\".format(l)])\n",
    "        else:\n",
    "            a_i=A[\"layer{0}\".format(l)]\n",
    "            # choose activation function derivative\n",
    "            h_prime=sigmoid_derivative(a_i).reshape((len(a_i),1))\n",
    "            aux=np.dot(W[\"layer{0}\".format(l+1)][:,1:].T,deltas[\"layer{0}\".format(l+1)])\n",
    "            deltas[\"layer{0}\".format(l)] = np.multiply(h_prime,aux)\n",
    "            #print(\"delta\",deltas[\"layer{0}\".format(l)])\n",
    "    return deltas"
   ]
  },
  {
   "cell_type": "code",
   "execution_count": 15,
   "id": "c6bf0af3",
   "metadata": {},
   "outputs": [],
   "source": [
    "def weight_updates(x,W,A,Z,deltas):\n",
    "    \n",
    "    for l in range(1,layers+1):\n",
    "        if(l==1):\n",
    "            \n",
    "            W[\"layer{0}\".format(l)]+=-lrate*np.outer(deltas[\"layer{0}\".format(l)],x)\n",
    "            \n",
    "        elif (l==layers):\n",
    "            \n",
    "            W[\"layer{0}\".format(l)]+=-lrate*deltas[\"layer{0}\".format(l)]*Z[\"layer{0}\".format(l-1)].T\n",
    "\n",
    "        else:\n",
    "            aux1=Z[\"layer{0}\".format(l-1)]        \n",
    "            aux1=aux1.reshape((1,aux1.shape[0]))               \n",
    "\n",
    "            W[\"layer{0}\".format(l)]+=-lrate*np.outer(deltas[\"layer{0}\".format(l)],aux1)\n",
    "            \n",
    "    return W"
   ]
  },
  {
   "cell_type": "code",
   "execution_count": 16,
   "id": "6e70c9e7",
   "metadata": {},
   "outputs": [],
   "source": [
    "def MLP_class_epoch(X_train, Y_train, W):\n",
    "    \n",
    "    total_loss = 0\n",
    "    N=X_train.shape[0]\n",
    "    \n",
    "    for n in range(N):\n",
    "        A,Z = forward_prop(X_train[n,:], W)\n",
    "        \n",
    "        # sum loss of example n\n",
    "        total_loss += loss_function(Z[\"layer{0}\".format(layers)], Y_train[n])\n",
    "        \n",
    "        # computing the deltas\n",
    "        deltas=backprop(X_train[n,:], Y_train[n], A, Z, W)\n",
    "        \n",
    "        # updating weights\n",
    "        W=weight_updates(X_train[n,:],W,A,Z,deltas)\n",
    "\n",
    "    return total_loss/N"
   ]
  },
  {
   "cell_type": "code",
   "execution_count": 17,
   "id": "9b7f63a2",
   "metadata": {},
   "outputs": [],
   "source": [
    "def realization_function(X,W):\n",
    "    \n",
    "    N=X.shape[0]\n",
    "    Y_hat=[]\n",
    "    \n",
    "    for n in range(N):\n",
    "        \n",
    "        A,Z=forward_prop(X[n,:],W)\n",
    "        Y_hat.append(np.argmax(Z[\"layer{0}\".format(layers)]))\n",
    "        \n",
    "    return Y_hat"
   ]
  },
  {
   "cell_type": "markdown",
   "id": "7ba61980",
   "metadata": {},
   "source": [
    "# Digit Classification using UCI ML dataset"
   ]
  },
  {
   "cell_type": "markdown",
   "id": "dbdb405e",
   "metadata": {},
   "source": [
    "### Data import and formatting"
   ]
  },
  {
   "cell_type": "code",
   "execution_count": 18,
   "id": "93bedf07",
   "metadata": {},
   "outputs": [],
   "source": [
    "from sklearn.datasets import load_digits\n",
    "data = load_digits()"
   ]
  },
  {
   "cell_type": "code",
   "execution_count": 19,
   "id": "70269822",
   "metadata": {},
   "outputs": [],
   "source": [
    "from sklearn.model_selection import train_test_split\n",
    "X_train, X_test, Y_train, Y_test = train_test_split(data.images, data.target, test_size=0.2, random_state=42)"
   ]
  },
  {
   "cell_type": "code",
   "execution_count": 20,
   "id": "37295d47",
   "metadata": {},
   "outputs": [],
   "source": [
    "# formatting data\n",
    "x_datatrain=np.zeros((X_train.shape[0],64))\n",
    "for j in range(X_train.shape[0]):\n",
    "    x_datatrain[j]=np.ndarray.flatten(X_train[j])\n",
    "\n",
    "x_datatest=np.zeros((X_test.shape[0],64))\n",
    "for j in range(X_test.shape[0]):\n",
    "    x_datatest[j]=np.ndarray.flatten(X_test[j])"
   ]
  },
  {
   "cell_type": "markdown",
   "id": "0d3decf4",
   "metadata": {},
   "source": [
    "### 1 hidden layer with 50 neurons, lrate=0.001"
   ]
  },
  {
   "cell_type": "code",
   "execution_count": 21,
   "id": "04693b6c",
   "metadata": {},
   "outputs": [],
   "source": [
    "neurons=[50,10]\n",
    "layers=len(neurons)\n",
    "\n",
    "lrate=0.001\n",
    "max_epochs=100\n",
    "\n",
    "train_acc = []\n",
    "test_acc = []\n",
    "loss= []\n",
    "\n",
    "# one-hat labels\n",
    "y_train_onehot=one_hot(Y_train)\n",
    "\n",
    "# weight init\n",
    "W=weight_init(neurons,x_datatrain)\n",
    "\n",
    "# adding bias, X.shape=(1437, 65)\n",
    "X_train=np.insert(x_datatrain,0,1,axis=1)\n",
    "X_test=np.insert(x_datatest,0,1,axis=1)\n",
    "\n",
    "for epoch in range(max_epochs):\n",
    "    loss.append(MLP_class_epoch(X_train, y_train_onehot, W))\n",
    "    \n",
    "    Y_hat_train=realization_function(X_train,W)\n",
    "    train_acc.append(accuracy(Y_train,Y_hat_train))\n",
    "    \n",
    "    Y_hat_test=realization_function(X_test,W)\n",
    "    test_acc.append(accuracy(Y_test,Y_hat_test))"
   ]
  },
  {
   "cell_type": "markdown",
   "id": "051ce4b8",
   "metadata": {},
   "source": [
    "#### Loss plot"
   ]
  },
  {
   "cell_type": "code",
   "execution_count": 22,
   "id": "01bae1b3",
   "metadata": {
    "scrolled": false
   },
   "outputs": [
    {
     "data": {
      "image/png": "[encoded data removed]",
      "text/plain": [
       "<Figure size 640x480 with 1 Axes>"
      ]
     },
     "metadata": {},
     "output_type": "display_data"
    }
   ],
   "source": [
    "plt.plot(range(max_epochs), loss, 'b-', label='loss')\n",
    "plt.legend()\n",
    "plt.show()"
   ]
  },
  {
   "cell_type": "markdown",
   "id": "51166dcc",
   "metadata": {},
   "source": [
    "#### Train/Test accuracy plots"
   ]
  },
  {
   "cell_type": "code",
   "execution_count": 23,
   "id": "f0af1ac0",
   "metadata": {},
   "outputs": [
    {
     "name": "stdout",
     "output_type": "stream",
     "text": [
      "Train accuracy: 0.9986082115518441\n",
      "Test accuracy: 0.9722222222222222\n"
     ]
    },
    {
     "data": {
      "image/png": "[encoded data removed]",
      "text/plain": [
       "<Figure size 640x480 with 1 Axes>"
      ]
     },
     "metadata": {},
     "output_type": "display_data"
    }
   ],
   "source": [
    "print(\"Train accuracy:\",train_acc[-1])\n",
    "print(\"Test accuracy:\",test_acc[-1])\n",
    "plt.plot(range(max_epochs), train_acc, 'b-', label='Train acc.')\n",
    "plt.plot(range(max_epochs), test_acc, 'r-', label='Test acc.')\n",
    "plt.legend()\n",
    "plt.show()"
   ]
  },
  {
   "cell_type": "markdown",
   "id": "d63955e8",
   "metadata": {},
   "source": [
    "### 3 hidden layers with 30,20,10 neurons, lrate=0.01"
   ]
  },
  {
   "cell_type": "code",
   "execution_count": 24,
   "id": "20516ac2",
   "metadata": {},
   "outputs": [],
   "source": [
    "neurons=[30,20,10,10]\n",
    "layers=len(neurons)\n",
    "\n",
    "lrate=0.01\n",
    "max_epochs=100\n",
    "\n",
    "train_acc = []\n",
    "test_acc = []\n",
    "loss= []\n",
    "\n",
    "# one-hat labels\n",
    "y_train_onehot=one_hot(Y_train)\n",
    "\n",
    "# weight init\n",
    "W=weight_init(neurons,x_datatrain)\n",
    "\n",
    "# adding bias, X.shape=(1437, 65)\n",
    "X_train=np.insert(x_datatrain,0,1,axis=1)\n",
    "X_test=np.insert(x_datatest,0,1,axis=1)\n",
    "\n",
    "for epoch in range(max_epochs):\n",
    "    loss.append(MLP_class_epoch(X_train, y_train_onehot, W))\n",
    "    \n",
    "    Y_hat_train=realization_function(X_train,W)\n",
    "    train_acc.append(accuracy(Y_train,Y_hat_train))\n",
    "    \n",
    "    Y_hat_test=realization_function(X_test,W)\n",
    "    test_acc.append(accuracy(Y_test,Y_hat_test))"
   ]
  },
  {
   "cell_type": "markdown",
   "id": "56ebb7ad",
   "metadata": {},
   "source": [
    "#### Loss function plot"
   ]
  },
  {
   "cell_type": "code",
   "execution_count": 25,
   "id": "dcf04794",
   "metadata": {},
   "outputs": [
    {
     "data": {
      "image/png": "[encoded data removed]",
      "text/plain": [
       "<Figure size 640x480 with 1 Axes>"
      ]
     },
     "metadata": {},
     "output_type": "display_data"
    }
   ],
   "source": [
    "plt.plot(range(max_epochs), loss, 'b-', label='loss')\n",
    "plt.legend()\n",
    "plt.show()"
   ]
  },
  {
   "cell_type": "markdown",
   "id": "4b374bcb",
   "metadata": {},
   "source": [
    "#### Train/Test accuracy plots"
   ]
  },
  {
   "cell_type": "code",
   "execution_count": 26,
   "id": "516d274b",
   "metadata": {},
   "outputs": [
    {
     "name": "stdout",
     "output_type": "stream",
     "text": [
      "Train accuracy: 0.9638135003479471\n",
      "Test accuracy: 0.9138888888888889\n"
     ]
    },
    {
     "data": {
      "image/png": "[encoded data removed]",
      "text/plain": [
       "<Figure size 640x480 with 1 Axes>"
      ]
     },
     "metadata": {},
     "output_type": "display_data"
    }
   ],
   "source": [
    "print(\"Train accuracy:\",train_acc[-1])\n",
    "print(\"Test accuracy:\",test_acc[-1])\n",
    "plt.plot(range(max_epochs), train_acc, 'b-', label='Train acc.')\n",
    "plt.plot(range(max_epochs), test_acc, 'r-', label='Test acc.')\n",
    "plt.legend()\n",
    "plt.show()"
   ]
  }
 ],
 "metadata": {
  "kernelspec": {
   "display_name": "Python 3 (ipykernel)",
   "language": "python",
   "name": "python3"
  },
  "language_info": {
   "codemirror_mode": {
    "name": "ipython",
    "version": 3
   },
   "file_extension": ".py",
   "mimetype": "text/x-python",
   "name": "python",
   "nbconvert_exporter": "python",
   "pygments_lexer": "ipython3",
   "version": "3.9.13"
  }
 },
 "nbformat": 4,
 "nbformat_minor": 5
}
